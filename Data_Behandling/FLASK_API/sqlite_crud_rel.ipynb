{
 "cells": [
  {
   "cell_type": "code",
   "execution_count": 3,
   "metadata": {},
   "outputs": [],
   "source": [
    "from database_sqlite import db,User,app,SystemAccount,History\n",
    "import datetime"
   ]
  },
  {
   "cell_type": "code",
   "execution_count": 4,
   "metadata": {},
   "outputs": [],
   "source": [
    "app.app_context().push()"
   ]
  },
  {
   "cell_type": "code",
   "execution_count": 5,
   "metadata": {},
   "outputs": [],
   "source": [
    "user_1 = User(user_name=\"Ammar python\",\n",
    "              user_email=\"ammar@Python.org\",\n",
    "              user_is_student=True,\n",
    "              user_course=\"Python for AI\",\n",
    "              user_birthdate= datetime.datetime.strptime(\"1982-07-20\",\"%Y-%m-%d\"),\n",
    "              user_hobbies=\"Math and PS5\",\n",
    "              user_about_u=\"I'm Happy with Python\")\n",
    "\n",
    "user_2 = User(user_name=\"James java\",\n",
    "              user_email=\"james@java.org\",\n",
    "              user_is_student=False,\n",
    "              user_course=\"Java OOP\",\n",
    "              user_birthdate= datetime.datetime.strptime(\"1983-08-25\",\"%Y-%m-%d\"),\n",
    "              user_hobbies=\"Basketball\",\n",
    "              user_about_u=\"Java is OOP God\")\n",
    "user_3 = User(user_name=\"CU Plusplus\",\n",
    "              user_email=\"cu@plusplus.se\",\n",
    "              user_is_student=True,\n",
    "              user_course=\"C++ for Dummies\",\n",
    "              user_birthdate= datetime.datetime.strptime(\"1999-12-25\",\"%Y-%m-%d\"),\n",
    "              user_hobbies=\"Computer Vision developer\",\n",
    "              user_about_u=\"C++ is way faster than Python :D\")"
   ]
  },
  {
   "cell_type": "code",
   "execution_count": 7,
   "metadata": {},
   "outputs": [
    {
     "ename": "PendingRollbackError",
     "evalue": "This Session's transaction has been rolled back due to a previous exception during flush. To begin a new transaction with this Session, first issue Session.rollback(). Original exception was: (sqlite3.IntegrityError) UNIQUE constraint failed: user_info.user_email\n[SQL: INSERT INTO user_info (user_name, user_email, user_is_student, user_course, user_hobbies, user_birthdate, user_about_u, created_on) VALUES (?, ?, ?, ?, ?, ?, ?, ?) RETURNING id]\n[parameters: ('Ammar Python', 'ammar@python.org', 1, 'Python for AI', 'Math and PS5', '1982-07-20 00:00:00.000000', \"I'm Happy with Python\", '2023-12-11 21:12:19.446639')]\n(Background on this error at: https://sqlalche.me/e/20/gkpj) (Background on this error at: https://sqlalche.me/e/20/7s2a)",
     "output_type": "error",
     "traceback": [
      "\u001b[1;31m---------------------------------------------------------------------------\u001b[0m",
      "\u001b[1;31mPendingRollbackError\u001b[0m                      Traceback (most recent call last)",
      "Cell \u001b[1;32mIn[7], line 2\u001b[0m\n\u001b[0;32m      1\u001b[0m db\u001b[38;5;241m.\u001b[39msession\u001b[38;5;241m.\u001b[39madd_all([user_1,user_2,user_3])\n\u001b[1;32m----> 2\u001b[0m \u001b[43mdb\u001b[49m\u001b[38;5;241;43m.\u001b[39;49m\u001b[43msession\u001b[49m\u001b[38;5;241;43m.\u001b[39;49m\u001b[43mcommit\u001b[49m\u001b[43m(\u001b[49m\u001b[43m)\u001b[49m\n",
      "File \u001b[1;32mc:\\Users\\shokr\\AppData\\Local\\Programs\\Python\\Python312\\Lib\\site-packages\\sqlalchemy\\orm\\scoping.py:598\u001b[0m, in \u001b[0;36mscoped_session.commit\u001b[1;34m(self)\u001b[0m\n\u001b[0;32m    559\u001b[0m \u001b[38;5;28;01mdef\u001b[39;00m \u001b[38;5;21mcommit\u001b[39m(\u001b[38;5;28mself\u001b[39m) \u001b[38;5;241m-\u001b[39m\u001b[38;5;241m>\u001b[39m \u001b[38;5;28;01mNone\u001b[39;00m:\n\u001b[0;32m    560\u001b[0m \u001b[38;5;250m    \u001b[39m\u001b[38;5;124mr\u001b[39m\u001b[38;5;124;03m\"\"\"Flush pending changes and commit the current transaction.\u001b[39;00m\n\u001b[0;32m    561\u001b[0m \n\u001b[0;32m    562\u001b[0m \u001b[38;5;124;03m    .. container:: class_bases\u001b[39;00m\n\u001b[1;32m   (...)\u001b[0m\n\u001b[0;32m    595\u001b[0m \n\u001b[0;32m    596\u001b[0m \u001b[38;5;124;03m    \"\"\"\u001b[39;00m  \u001b[38;5;66;03m# noqa: E501\u001b[39;00m\n\u001b[1;32m--> 598\u001b[0m     \u001b[38;5;28;01mreturn\u001b[39;00m \u001b[38;5;28;43mself\u001b[39;49m\u001b[38;5;241;43m.\u001b[39;49m\u001b[43m_proxied\u001b[49m\u001b[38;5;241;43m.\u001b[39;49m\u001b[43mcommit\u001b[49m\u001b[43m(\u001b[49m\u001b[43m)\u001b[49m\n",
      "File \u001b[1;32mc:\\Users\\shokr\\AppData\\Local\\Programs\\Python\\Python312\\Lib\\site-packages\\sqlalchemy\\orm\\session.py:1969\u001b[0m, in \u001b[0;36mSession.commit\u001b[1;34m(self)\u001b[0m\n\u001b[0;32m   1966\u001b[0m \u001b[38;5;28;01mif\u001b[39;00m trans \u001b[38;5;129;01mis\u001b[39;00m \u001b[38;5;28;01mNone\u001b[39;00m:\n\u001b[0;32m   1967\u001b[0m     trans \u001b[38;5;241m=\u001b[39m \u001b[38;5;28mself\u001b[39m\u001b[38;5;241m.\u001b[39m_autobegin_t()\n\u001b[1;32m-> 1969\u001b[0m \u001b[43mtrans\u001b[49m\u001b[38;5;241;43m.\u001b[39;49m\u001b[43mcommit\u001b[49m\u001b[43m(\u001b[49m\u001b[43m_to_root\u001b[49m\u001b[38;5;241;43m=\u001b[39;49m\u001b[38;5;28;43;01mTrue\u001b[39;49;00m\u001b[43m)\u001b[49m\n",
      "File \u001b[1;32m<string>:2\u001b[0m, in \u001b[0;36mcommit\u001b[1;34m(self, _to_root)\u001b[0m\n",
      "File \u001b[1;32mc:\\Users\\shokr\\AppData\\Local\\Programs\\Python\\Python312\\Lib\\site-packages\\sqlalchemy\\orm\\state_changes.py:103\u001b[0m, in \u001b[0;36m_StateChange.declare_states.<locals>._go\u001b[1;34m(fn, self, *arg, **kw)\u001b[0m\n\u001b[0;32m     97\u001b[0m current_state \u001b[38;5;241m=\u001b[39m \u001b[38;5;28mself\u001b[39m\u001b[38;5;241m.\u001b[39m_state\n\u001b[0;32m     99\u001b[0m \u001b[38;5;28;01mif\u001b[39;00m (\n\u001b[0;32m    100\u001b[0m     has_prerequisite_states\n\u001b[0;32m    101\u001b[0m     \u001b[38;5;129;01mand\u001b[39;00m current_state \u001b[38;5;129;01mnot\u001b[39;00m \u001b[38;5;129;01min\u001b[39;00m prerequisite_state_collection\n\u001b[0;32m    102\u001b[0m ):\n\u001b[1;32m--> 103\u001b[0m     \u001b[38;5;28;43mself\u001b[39;49m\u001b[38;5;241;43m.\u001b[39;49m\u001b[43m_raise_for_prerequisite_state\u001b[49m\u001b[43m(\u001b[49m\u001b[43mfn\u001b[49m\u001b[38;5;241;43m.\u001b[39;49m\u001b[38;5;18;43m__name__\u001b[39;49m\u001b[43m,\u001b[49m\u001b[43m \u001b[49m\u001b[43mcurrent_state\u001b[49m\u001b[43m)\u001b[49m\n\u001b[0;32m    105\u001b[0m next_state \u001b[38;5;241m=\u001b[39m \u001b[38;5;28mself\u001b[39m\u001b[38;5;241m.\u001b[39m_next_state\n\u001b[0;32m    106\u001b[0m existing_fn \u001b[38;5;241m=\u001b[39m \u001b[38;5;28mself\u001b[39m\u001b[38;5;241m.\u001b[39m_current_fn\n",
      "File \u001b[1;32mc:\\Users\\shokr\\AppData\\Local\\Programs\\Python\\Python312\\Lib\\site-packages\\sqlalchemy\\orm\\session.py:929\u001b[0m, in \u001b[0;36mSessionTransaction._raise_for_prerequisite_state\u001b[1;34m(self, operation_name, state)\u001b[0m\n\u001b[0;32m    927\u001b[0m \u001b[38;5;28;01mif\u001b[39;00m state \u001b[38;5;129;01mis\u001b[39;00m SessionTransactionState\u001b[38;5;241m.\u001b[39mDEACTIVE:\n\u001b[0;32m    928\u001b[0m     \u001b[38;5;28;01mif\u001b[39;00m \u001b[38;5;28mself\u001b[39m\u001b[38;5;241m.\u001b[39m_rollback_exception:\n\u001b[1;32m--> 929\u001b[0m         \u001b[38;5;28;01mraise\u001b[39;00m sa_exc\u001b[38;5;241m.\u001b[39mPendingRollbackError(\n\u001b[0;32m    930\u001b[0m             \u001b[38;5;124m\"\u001b[39m\u001b[38;5;124mThis Session\u001b[39m\u001b[38;5;124m'\u001b[39m\u001b[38;5;124ms transaction has been rolled back \u001b[39m\u001b[38;5;124m\"\u001b[39m\n\u001b[0;32m    931\u001b[0m             \u001b[38;5;124m\"\u001b[39m\u001b[38;5;124mdue to a previous exception during flush.\u001b[39m\u001b[38;5;124m\"\u001b[39m\n\u001b[0;32m    932\u001b[0m             \u001b[38;5;124m\"\u001b[39m\u001b[38;5;124m To begin a new transaction with this Session, \u001b[39m\u001b[38;5;124m\"\u001b[39m\n\u001b[0;32m    933\u001b[0m             \u001b[38;5;124m\"\u001b[39m\u001b[38;5;124mfirst issue Session.rollback().\u001b[39m\u001b[38;5;124m\"\u001b[39m\n\u001b[0;32m    934\u001b[0m             \u001b[38;5;124mf\u001b[39m\u001b[38;5;124m\"\u001b[39m\u001b[38;5;124m Original exception was: \u001b[39m\u001b[38;5;132;01m{\u001b[39;00m\u001b[38;5;28mself\u001b[39m\u001b[38;5;241m.\u001b[39m_rollback_exception\u001b[38;5;132;01m}\u001b[39;00m\u001b[38;5;124m\"\u001b[39m,\n\u001b[0;32m    935\u001b[0m             code\u001b[38;5;241m=\u001b[39m\u001b[38;5;124m\"\u001b[39m\u001b[38;5;124m7s2a\u001b[39m\u001b[38;5;124m\"\u001b[39m,\n\u001b[0;32m    936\u001b[0m         )\n\u001b[0;32m    937\u001b[0m     \u001b[38;5;28;01melse\u001b[39;00m:\n\u001b[0;32m    938\u001b[0m         \u001b[38;5;28;01mraise\u001b[39;00m sa_exc\u001b[38;5;241m.\u001b[39mInvalidRequestError(\n\u001b[0;32m    939\u001b[0m             \u001b[38;5;124m\"\u001b[39m\u001b[38;5;124mThis session is in \u001b[39m\u001b[38;5;124m'\u001b[39m\u001b[38;5;124minactive\u001b[39m\u001b[38;5;124m'\u001b[39m\u001b[38;5;124m state, due to the \u001b[39m\u001b[38;5;124m\"\u001b[39m\n\u001b[0;32m    940\u001b[0m             \u001b[38;5;124m\"\u001b[39m\u001b[38;5;124mSQL transaction being rolled back; no further SQL \u001b[39m\u001b[38;5;124m\"\u001b[39m\n\u001b[0;32m    941\u001b[0m             \u001b[38;5;124m\"\u001b[39m\u001b[38;5;124mcan be emitted within this transaction.\u001b[39m\u001b[38;5;124m\"\u001b[39m\n\u001b[0;32m    942\u001b[0m         )\n",
      "\u001b[1;31mPendingRollbackError\u001b[0m: This Session's transaction has been rolled back due to a previous exception during flush. To begin a new transaction with this Session, first issue Session.rollback(). Original exception was: (sqlite3.IntegrityError) UNIQUE constraint failed: user_info.user_email\n[SQL: INSERT INTO user_info (user_name, user_email, user_is_student, user_course, user_hobbies, user_birthdate, user_about_u, created_on) VALUES (?, ?, ?, ?, ?, ?, ?, ?) RETURNING id]\n[parameters: ('Ammar Python', 'ammar@python.org', 1, 'Python for AI', 'Math and PS5', '1982-07-20 00:00:00.000000', \"I'm Happy with Python\", '2023-12-11 21:12:19.446639')]\n(Background on this error at: https://sqlalche.me/e/20/gkpj) (Background on this error at: https://sqlalche.me/e/20/7s2a)"
     ]
    }
   ],
   "source": [
    "db.session.add_all([user_1,user_2,user_3])\n",
    "db.session.commit()"
   ]
  },
  {
   "cell_type": "markdown",
   "metadata": {},
   "source": [
    "# After Adding System account and History"
   ]
  },
  {
   "cell_type": "code",
   "execution_count": null,
   "metadata": {},
   "outputs": [],
   "source": [
    "# Create System accounts for our 3 Users\n",
    "acc_1 = SystemAccount(acc_user_email=user_1.user_email,\n",
    "                      password=\"LifeIsLife23\",\n",
    "                      user_id=user_1.id,\n",
    "                      acc_role=\"Teacher\")\n",
    "acc_2 = SystemAccount(acc_user_email=user_2.user_email,\n",
    "                      password=\"StrongIsBetter12\",\n",
    "                      user_id=user_2.id,\n",
    "                      acc_role=\"Student\")\n",
    "acc_3 = SystemAccount(acc_user_email=user_3.user_email,\n",
    "                      password=\"BrotherLoy82\",\n",
    "                      user_id=user_3.id,\n",
    "                      acc_role=\"admin\")\n",
    "db.session.add_all([acc_1,acc_2,acc_3])\n",
    "db.session.commit()"
   ]
  },
  {
   "cell_type": "code",
   "execution_count": null,
   "metadata": {},
   "outputs": [],
   "source": [
    "h1_1 = History(his_txt=\"Hi, I'm Python developer\",user_id=user_1.id)\n",
    "h1_2 = History(his_txt=\"Python can do all\",user_id=user_1.id)\n",
    "h2_1 = History(his_txt=\" James and Java is True\", user_id=user_2.id)\n",
    "h2_2 = History(his_txt=\"Java is faster than Python , all know that\", user_id=user_2.id)\n",
    "h3_1 = History(his_txt=\"C++>Java>Python\",user_id=user_3.id)"
   ]
  },
  {
   "cell_type": "code",
   "execution_count": null,
   "metadata": {},
   "outputs": [],
   "source": [
    "db.session.add_all([h1_1,h1_2,h2_1,h2_2,h3_1])\n",
    "db.session.commit()"
   ]
  },
  {
   "cell_type": "code",
   "execution_count": null,
   "metadata": {},
   "outputs": [
    {
     "name": "stdout",
     "output_type": "stream",
     "text": [
      "User ID:        1\n",
      "User name:      Ammar Python\n",
      "Birthdate:      1982-07-20 00:00:00\n",
      "E-Post:         ammar@python.org\n",
      "Student:        True\n",
      "Course:         Python for AI\n",
      "Hobbies:        Math and PS5\n",
      "About User:     I'm Happy with Python\n",
      "Created on:     2023-12-06 15:10:21.489624\n",
      " --> Related system account info : \n",
      "Account Username:      ammar@python.org\n",
      "Account Role:          Teacher\n",
      "Account_status:        active\n",
      "Account Created on:    2023-12-06 15:10:25.647928\n",
      "Account Owner ID:      1\n",
      "\n",
      "----------------------------------------\n",
      "User ID:        2\n",
      "User name:      James Java\n",
      "Birthdate:      1983-08-25 00:00:00\n",
      "E-Post:         james@java.org\n",
      "Student:        False\n",
      "Course:         Java OOP\n",
      "Hobbies:        Basketball\n",
      "About User:     Java is OOP God\n",
      "Created on:     2023-12-06 15:10:21.489624\n",
      " --> Related system account info : \n",
      "Account Username:      james@java.org\n",
      "Account Role:          Student\n",
      "Account_status:        active\n",
      "Account Created on:    2023-12-06 15:10:25.754329\n",
      "Account Owner ID:      2\n",
      "\n",
      "----------------------------------------\n",
      "User ID:        3\n",
      "User name:      Cu Plusplus\n",
      "Birthdate:      1999-12-25 00:00:00\n",
      "E-Post:         cu@plusplus.se\n",
      "Student:        True\n",
      "Course:         C++ for Dummies\n",
      "Hobbies:        Computer Vision developer\n",
      "About User:     C++ is way faster than Python :D\n",
      "Created on:     2023-12-06 15:10:21.489624\n",
      " --> Related system account info : \n",
      "Account Username:      cu@plusplus.se\n",
      "Account Role:          admin\n",
      "Account_status:        active\n",
      "Account Created on:    2023-12-06 15:10:25.852116\n",
      "Account Owner ID:      3\n",
      "\n",
      "----------------------------------------\n"
     ]
    }
   ],
   "source": [
    "for user in [user_1,user_2,user_3]:\n",
    "    print(user)\n",
    "    print(\"-\"*40)"
   ]
  },
  {
   "cell_type": "code",
   "execution_count": null,
   "metadata": {},
   "outputs": [
    {
     "name": "stdout",
     "output_type": "stream",
     "text": [
      " Text:         Hi, I'm Python developer\n",
      "Status:        active\n",
      "Created On:    2023-12-06 15:10:28.154032\n",
      "Owner ID       1\n",
      " Text:         Python can do all\n",
      "Status:        active\n",
      "Created On:    2023-12-06 15:10:28.154032\n",
      "Owner ID       1\n",
      "\n",
      "----------------------------------------\n",
      " Text:          James and Java is True\n",
      "Status:        active\n",
      "Created On:    2023-12-06 15:10:28.155030\n",
      "Owner ID       2\n",
      " Text:         Java is faster than Python , all know that\n",
      "Status:        active\n",
      "Created On:    2023-12-06 15:10:28.156026\n",
      "Owner ID       2\n",
      "\n",
      "----------------------------------------\n",
      " Text:         C++>Java>Python\n",
      "Status:        active\n",
      "Created On:    2023-12-06 15:10:28.157025\n",
      "Owner ID       3\n",
      "\n",
      "----------------------------------------\n"
     ]
    }
   ],
   "source": [
    "for user in [user_1,user_2,user_3]:\n",
    "    print(user.user_history())\n",
    "    print(\"-\"*40)"
   ]
  }
 ],
 "metadata": {
  "kernelspec": {
   "display_name": "Python 3",
   "language": "python",
   "name": "python3"
  },
  "language_info": {
   "codemirror_mode": {
    "name": "ipython",
    "version": 3
   },
   "file_extension": ".py",
   "mimetype": "text/x-python",
   "name": "python",
   "nbconvert_exporter": "python",
   "pygments_lexer": "ipython3",
   "version": "3.12.0"
  }
 },
 "nbformat": 4,
 "nbformat_minor": 2
}

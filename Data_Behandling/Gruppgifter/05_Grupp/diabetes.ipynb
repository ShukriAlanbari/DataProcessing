{
 "cells": [
  {
   "cell_type": "markdown",
   "metadata": {},
   "source": [
    "1- read in Diabetes_na_2.csv into Pandas dataframe df.\n",
    "2- discuss drop , and  fill missing values and why"
   ]
  },
  {
   "cell_type": "code",
   "execution_count": 2,
   "metadata": {},
   "outputs": [],
   "source": [
    "import pandas as pd\n",
    "import numpy as np"
   ]
  },
  {
   "cell_type": "code",
   "execution_count": 3,
   "metadata": {},
   "outputs": [
    {
     "data": {
      "text/html": [
       "<div>\n",
       "<style scoped>\n",
       "    .dataframe tbody tr th:only-of-type {\n",
       "        vertical-align: middle;\n",
       "    }\n",
       "\n",
       "    .dataframe tbody tr th {\n",
       "        vertical-align: top;\n",
       "    }\n",
       "\n",
       "    .dataframe thead th {\n",
       "        text-align: right;\n",
       "    }\n",
       "</style>\n",
       "<table border=\"1\" class=\"dataframe\">\n",
       "  <thead>\n",
       "    <tr style=\"text-align: right;\">\n",
       "      <th></th>\n",
       "      <th>Unnamed: 0</th>\n",
       "      <th>Pregnancies</th>\n",
       "      <th>Glucose</th>\n",
       "      <th>BloodPressure</th>\n",
       "      <th>SkinThickness</th>\n",
       "      <th>Insulin</th>\n",
       "      <th>BMI</th>\n",
       "      <th>DiabetesPedigreeFunction</th>\n",
       "      <th>Age</th>\n",
       "      <th>Outcome</th>\n",
       "    </tr>\n",
       "  </thead>\n",
       "  <tbody>\n",
       "    <tr>\n",
       "      <th>0</th>\n",
       "      <td>0</td>\n",
       "      <td>6</td>\n",
       "      <td>148.0</td>\n",
       "      <td>72</td>\n",
       "      <td>35</td>\n",
       "      <td>NaN</td>\n",
       "      <td>33.6</td>\n",
       "      <td>0.627</td>\n",
       "      <td>50.0</td>\n",
       "      <td>1</td>\n",
       "    </tr>\n",
       "    <tr>\n",
       "      <th>1</th>\n",
       "      <td>1</td>\n",
       "      <td>1</td>\n",
       "      <td>85.0</td>\n",
       "      <td>66</td>\n",
       "      <td>29</td>\n",
       "      <td>NaN</td>\n",
       "      <td>26.6</td>\n",
       "      <td>0.351</td>\n",
       "      <td>NaN</td>\n",
       "      <td>0</td>\n",
       "    </tr>\n",
       "    <tr>\n",
       "      <th>2</th>\n",
       "      <td>2</td>\n",
       "      <td>8</td>\n",
       "      <td>183.0</td>\n",
       "      <td>64</td>\n",
       "      <td>0</td>\n",
       "      <td>NaN</td>\n",
       "      <td>23.3</td>\n",
       "      <td>0.672</td>\n",
       "      <td>32.0</td>\n",
       "      <td>1</td>\n",
       "    </tr>\n",
       "    <tr>\n",
       "      <th>3</th>\n",
       "      <td>3</td>\n",
       "      <td>1</td>\n",
       "      <td>89.0</td>\n",
       "      <td>66</td>\n",
       "      <td>23</td>\n",
       "      <td>94.0</td>\n",
       "      <td>28.1</td>\n",
       "      <td>0.167</td>\n",
       "      <td>21.0</td>\n",
       "      <td>0</td>\n",
       "    </tr>\n",
       "    <tr>\n",
       "      <th>4</th>\n",
       "      <td>4</td>\n",
       "      <td>0</td>\n",
       "      <td>137.0</td>\n",
       "      <td>40</td>\n",
       "      <td>35</td>\n",
       "      <td>168.0</td>\n",
       "      <td>43.1</td>\n",
       "      <td>2.288</td>\n",
       "      <td>33.0</td>\n",
       "      <td>1</td>\n",
       "    </tr>\n",
       "    <tr>\n",
       "      <th>5</th>\n",
       "      <td>5</td>\n",
       "      <td>5</td>\n",
       "      <td>116.0</td>\n",
       "      <td>74</td>\n",
       "      <td>0</td>\n",
       "      <td>NaN</td>\n",
       "      <td>25.6</td>\n",
       "      <td>0.201</td>\n",
       "      <td>30.0</td>\n",
       "      <td>0</td>\n",
       "    </tr>\n",
       "    <tr>\n",
       "      <th>6</th>\n",
       "      <td>6</td>\n",
       "      <td>3</td>\n",
       "      <td>78.0</td>\n",
       "      <td>50</td>\n",
       "      <td>32</td>\n",
       "      <td>88.0</td>\n",
       "      <td>31.0</td>\n",
       "      <td>0.248</td>\n",
       "      <td>26.0</td>\n",
       "      <td>1</td>\n",
       "    </tr>\n",
       "    <tr>\n",
       "      <th>7</th>\n",
       "      <td>7</td>\n",
       "      <td>10</td>\n",
       "      <td>115.0</td>\n",
       "      <td>0</td>\n",
       "      <td>0</td>\n",
       "      <td>NaN</td>\n",
       "      <td>35.3</td>\n",
       "      <td>0.134</td>\n",
       "      <td>29.0</td>\n",
       "      <td>0</td>\n",
       "    </tr>\n",
       "    <tr>\n",
       "      <th>8</th>\n",
       "      <td>8</td>\n",
       "      <td>2</td>\n",
       "      <td>197.0</td>\n",
       "      <td>70</td>\n",
       "      <td>45</td>\n",
       "      <td>543.0</td>\n",
       "      <td>30.5</td>\n",
       "      <td>0.158</td>\n",
       "      <td>53.0</td>\n",
       "      <td>1</td>\n",
       "    </tr>\n",
       "    <tr>\n",
       "      <th>9</th>\n",
       "      <td>9</td>\n",
       "      <td>8</td>\n",
       "      <td>125.0</td>\n",
       "      <td>96</td>\n",
       "      <td>0</td>\n",
       "      <td>NaN</td>\n",
       "      <td>0.0</td>\n",
       "      <td>0.232</td>\n",
       "      <td>NaN</td>\n",
       "      <td>1</td>\n",
       "    </tr>\n",
       "  </tbody>\n",
       "</table>\n",
       "</div>"
      ],
      "text/plain": [
       "   Unnamed: 0  Pregnancies  Glucose  BloodPressure  SkinThickness  Insulin  \\\n",
       "0           0            6    148.0             72             35      NaN   \n",
       "1           1            1     85.0             66             29      NaN   \n",
       "2           2            8    183.0             64              0      NaN   \n",
       "3           3            1     89.0             66             23     94.0   \n",
       "4           4            0    137.0             40             35    168.0   \n",
       "5           5            5    116.0             74              0      NaN   \n",
       "6           6            3     78.0             50             32     88.0   \n",
       "7           7           10    115.0              0              0      NaN   \n",
       "8           8            2    197.0             70             45    543.0   \n",
       "9           9            8    125.0             96              0      NaN   \n",
       "\n",
       "    BMI  DiabetesPedigreeFunction   Age  Outcome  \n",
       "0  33.6                     0.627  50.0        1  \n",
       "1  26.6                     0.351   NaN        0  \n",
       "2  23.3                     0.672  32.0        1  \n",
       "3  28.1                     0.167  21.0        0  \n",
       "4  43.1                     2.288  33.0        1  \n",
       "5  25.6                     0.201  30.0        0  \n",
       "6  31.0                     0.248  26.0        1  \n",
       "7  35.3                     0.134  29.0        0  \n",
       "8  30.5                     0.158  53.0        1  \n",
       "9   0.0                     0.232   NaN        1  "
      ]
     },
     "execution_count": 3,
     "metadata": {},
     "output_type": "execute_result"
    }
   ],
   "source": [
    "df = pd.read_csv('diabetes_na_2.csv')\n",
    "df.head(10)"
   ]
  },
  {
   "cell_type": "code",
   "execution_count": 4,
   "metadata": {},
   "outputs": [],
   "source": [
    "#Observations\n",
    "\n",
    "#For Outcome column:\n",
    "#Could maybe be if treatment is effective or maybe what type of diabetes.\n",
    "#Could also be if individual has diabetes or not. This can be useful for\n",
    "#looking at correlations between the other columns.\n",
    "\n",
    "#Skin thickness:\n",
    "#We assume that if they have 0 they have not taken the test\n",
    "#Replacing 0 with NaN\n",
    "#And then we replace NaN with the mean value of skin thickness\n",
    "\n",
    "#BMI:\n",
    "#We assume that if they have 0 they have not taken the test\n",
    "#We replace all 0 with NaN\n",
    "#And then we replace NaN with the mean value of BMI\n",
    "\n",
    "#Insulin:\n",
    "#After inspecting the different quantiles and min max values\n",
    "#we see we have a huge value of outliers in this column, therefore\n",
    "#we will use median value for fill\n",
    "#we keep the 0.0 values because we assume they did not get any insulin\n",
    "\n",
    "#Glucose:\n",
    "#We assume that if they have 0 they have not taken the test\n",
    "#Replace 0 with NaN\n",
    "#No direct outliers in glucose, therefore we will use mean value.\n",
    "\n",
    "#Age:\n",
    "#We can use median value in order to avoid accidentaly \"spiking\" the \n",
    "#value if we have outliers with extraordinary high age."
   ]
  },
  {
   "cell_type": "code",
   "execution_count": 5,
   "metadata": {},
   "outputs": [
    {
     "name": "stdout",
     "output_type": "stream",
     "text": [
      "<class 'pandas.core.frame.DataFrame'>\n",
      "RangeIndex: 768 entries, 0 to 767\n",
      "Data columns (total 10 columns):\n",
      " #   Column                    Non-Null Count  Dtype  \n",
      "---  ------                    --------------  -----  \n",
      " 0   Unnamed: 0                768 non-null    int64  \n",
      " 1   Pregnancies               768 non-null    int64  \n",
      " 2   Glucose                   758 non-null    float64\n",
      " 3   BloodPressure             768 non-null    int64  \n",
      " 4   SkinThickness             768 non-null    int64  \n",
      " 5   Insulin                   746 non-null    float64\n",
      " 6   BMI                       768 non-null    float64\n",
      " 7   DiabetesPedigreeFunction  768 non-null    float64\n",
      " 8   Age                       759 non-null    float64\n",
      " 9   Outcome                   768 non-null    int64  \n",
      "dtypes: float64(5), int64(5)\n",
      "memory usage: 60.1 KB\n"
     ]
    }
   ],
   "source": [
    "df.info()"
   ]
  },
  {
   "cell_type": "code",
   "execution_count": 6,
   "metadata": {},
   "outputs": [
    {
     "data": {
      "text/html": [
       "<div>\n",
       "<style scoped>\n",
       "    .dataframe tbody tr th:only-of-type {\n",
       "        vertical-align: middle;\n",
       "    }\n",
       "\n",
       "    .dataframe tbody tr th {\n",
       "        vertical-align: top;\n",
       "    }\n",
       "\n",
       "    .dataframe thead th {\n",
       "        text-align: right;\n",
       "    }\n",
       "</style>\n",
       "<table border=\"1\" class=\"dataframe\">\n",
       "  <thead>\n",
       "    <tr style=\"text-align: right;\">\n",
       "      <th></th>\n",
       "      <th>Unnamed: 0</th>\n",
       "      <th>Pregnancies</th>\n",
       "      <th>Glucose</th>\n",
       "      <th>BloodPressure</th>\n",
       "      <th>SkinThickness</th>\n",
       "      <th>Insulin</th>\n",
       "      <th>BMI</th>\n",
       "      <th>DiabetesPedigreeFunction</th>\n",
       "      <th>Age</th>\n",
       "      <th>Outcome</th>\n",
       "    </tr>\n",
       "  </thead>\n",
       "  <tbody>\n",
       "    <tr>\n",
       "      <th>count</th>\n",
       "      <td>768.000000</td>\n",
       "      <td>768.000000</td>\n",
       "      <td>758.000000</td>\n",
       "      <td>768.000000</td>\n",
       "      <td>768.000000</td>\n",
       "      <td>746.000000</td>\n",
       "      <td>768.000000</td>\n",
       "      <td>768.000000</td>\n",
       "      <td>759.000000</td>\n",
       "      <td>768.000000</td>\n",
       "    </tr>\n",
       "    <tr>\n",
       "      <th>mean</th>\n",
       "      <td>383.500000</td>\n",
       "      <td>3.845052</td>\n",
       "      <td>120.972296</td>\n",
       "      <td>69.105469</td>\n",
       "      <td>20.536458</td>\n",
       "      <td>82.152815</td>\n",
       "      <td>31.992578</td>\n",
       "      <td>0.471876</td>\n",
       "      <td>33.119895</td>\n",
       "      <td>0.348958</td>\n",
       "    </tr>\n",
       "    <tr>\n",
       "      <th>std</th>\n",
       "      <td>221.846794</td>\n",
       "      <td>3.369578</td>\n",
       "      <td>31.741909</td>\n",
       "      <td>19.355807</td>\n",
       "      <td>15.952218</td>\n",
       "      <td>116.102469</td>\n",
       "      <td>7.884160</td>\n",
       "      <td>0.331329</td>\n",
       "      <td>11.727676</td>\n",
       "      <td>0.476951</td>\n",
       "    </tr>\n",
       "    <tr>\n",
       "      <th>min</th>\n",
       "      <td>0.000000</td>\n",
       "      <td>0.000000</td>\n",
       "      <td>0.000000</td>\n",
       "      <td>0.000000</td>\n",
       "      <td>0.000000</td>\n",
       "      <td>0.000000</td>\n",
       "      <td>0.000000</td>\n",
       "      <td>0.078000</td>\n",
       "      <td>21.000000</td>\n",
       "      <td>0.000000</td>\n",
       "    </tr>\n",
       "    <tr>\n",
       "      <th>25%</th>\n",
       "      <td>191.750000</td>\n",
       "      <td>1.000000</td>\n",
       "      <td>99.000000</td>\n",
       "      <td>62.000000</td>\n",
       "      <td>0.000000</td>\n",
       "      <td>0.000000</td>\n",
       "      <td>27.300000</td>\n",
       "      <td>0.243750</td>\n",
       "      <td>24.000000</td>\n",
       "      <td>0.000000</td>\n",
       "    </tr>\n",
       "    <tr>\n",
       "      <th>50%</th>\n",
       "      <td>383.500000</td>\n",
       "      <td>3.000000</td>\n",
       "      <td>117.000000</td>\n",
       "      <td>72.000000</td>\n",
       "      <td>23.000000</td>\n",
       "      <td>42.500000</td>\n",
       "      <td>32.000000</td>\n",
       "      <td>0.372500</td>\n",
       "      <td>29.000000</td>\n",
       "      <td>0.000000</td>\n",
       "    </tr>\n",
       "    <tr>\n",
       "      <th>75%</th>\n",
       "      <td>575.250000</td>\n",
       "      <td>6.000000</td>\n",
       "      <td>140.000000</td>\n",
       "      <td>80.000000</td>\n",
       "      <td>32.000000</td>\n",
       "      <td>130.000000</td>\n",
       "      <td>36.600000</td>\n",
       "      <td>0.626250</td>\n",
       "      <td>40.000000</td>\n",
       "      <td>1.000000</td>\n",
       "    </tr>\n",
       "    <tr>\n",
       "      <th>max</th>\n",
       "      <td>767.000000</td>\n",
       "      <td>17.000000</td>\n",
       "      <td>199.000000</td>\n",
       "      <td>122.000000</td>\n",
       "      <td>99.000000</td>\n",
       "      <td>846.000000</td>\n",
       "      <td>67.100000</td>\n",
       "      <td>2.420000</td>\n",
       "      <td>81.000000</td>\n",
       "      <td>1.000000</td>\n",
       "    </tr>\n",
       "  </tbody>\n",
       "</table>\n",
       "</div>"
      ],
      "text/plain": [
       "       Unnamed: 0  Pregnancies     Glucose  BloodPressure  SkinThickness  \\\n",
       "count  768.000000   768.000000  758.000000     768.000000     768.000000   \n",
       "mean   383.500000     3.845052  120.972296      69.105469      20.536458   \n",
       "std    221.846794     3.369578   31.741909      19.355807      15.952218   \n",
       "min      0.000000     0.000000    0.000000       0.000000       0.000000   \n",
       "25%    191.750000     1.000000   99.000000      62.000000       0.000000   \n",
       "50%    383.500000     3.000000  117.000000      72.000000      23.000000   \n",
       "75%    575.250000     6.000000  140.000000      80.000000      32.000000   \n",
       "max    767.000000    17.000000  199.000000     122.000000      99.000000   \n",
       "\n",
       "          Insulin         BMI  DiabetesPedigreeFunction         Age  \\\n",
       "count  746.000000  768.000000                768.000000  759.000000   \n",
       "mean    82.152815   31.992578                  0.471876   33.119895   \n",
       "std    116.102469    7.884160                  0.331329   11.727676   \n",
       "min      0.000000    0.000000                  0.078000   21.000000   \n",
       "25%      0.000000   27.300000                  0.243750   24.000000   \n",
       "50%     42.500000   32.000000                  0.372500   29.000000   \n",
       "75%    130.000000   36.600000                  0.626250   40.000000   \n",
       "max    846.000000   67.100000                  2.420000   81.000000   \n",
       "\n",
       "          Outcome  \n",
       "count  768.000000  \n",
       "mean     0.348958  \n",
       "std      0.476951  \n",
       "min      0.000000  \n",
       "25%      0.000000  \n",
       "50%      0.000000  \n",
       "75%      1.000000  \n",
       "max      1.000000  "
      ]
     },
     "execution_count": 6,
     "metadata": {},
     "output_type": "execute_result"
    }
   ],
   "source": [
    "df.describe()"
   ]
  },
  {
   "cell_type": "code",
   "execution_count": 7,
   "metadata": {},
   "outputs": [
    {
     "data": {
      "text/plain": [
       "Unnamed: 0                   0\n",
       "Pregnancies                  0\n",
       "Glucose                     10\n",
       "BloodPressure                0\n",
       "SkinThickness                0\n",
       "Insulin                     22\n",
       "BMI                          0\n",
       "DiabetesPedigreeFunction     0\n",
       "Age                          9\n",
       "Outcome                      0\n",
       "dtype: int64"
      ]
     },
     "execution_count": 7,
     "metadata": {},
     "output_type": "execute_result"
    }
   ],
   "source": [
    "df.isnull().sum()"
   ]
  },
  {
   "cell_type": "code",
   "execution_count": 8,
   "metadata": {},
   "outputs": [
    {
     "data": {
      "text/plain": [
       "Unnamed: 0                  0.001364\n",
       "Pregnancies                -0.035244\n",
       "Glucose                     0.007387\n",
       "BloodPressure               0.013311\n",
       "SkinThickness               0.000451\n",
       "Insulin                     0.008210\n",
       "BMI                        -0.020190\n",
       "DiabetesPedigreeFunction    0.013634\n",
       "Age                        -0.019346\n",
       "Outcome                    -0.030263\n",
       "dtype: float64"
      ]
     },
     "execution_count": 8,
     "metadata": {},
     "output_type": "execute_result"
    }
   ],
   "source": [
    "df_dropna = df.dropna()\n",
    "\n",
    "corr_diff_global_and_dropped = df.corr(numeric_only=True) - \\\n",
    "    df_dropna.corr(numeric_only=True)\n",
    "corr_diff_global_and_dropped.sum()\n",
    "####We drop 38 rows if using dropna"
   ]
  },
  {
   "cell_type": "code",
   "execution_count": 9,
   "metadata": {},
   "outputs": [
    {
     "data": {
      "text/plain": [
       "130.0"
      ]
     },
     "execution_count": 9,
     "metadata": {},
     "output_type": "execute_result"
    }
   ],
   "source": [
    "df['Insulin'].quantile(0.75)"
   ]
  },
  {
   "cell_type": "code",
   "execution_count": 10,
   "metadata": {},
   "outputs": [
    {
     "data": {
      "text/plain": [
       "82.15281501340482"
      ]
     },
     "execution_count": 10,
     "metadata": {},
     "output_type": "execute_result"
    }
   ],
   "source": [
    "df['Insulin'].mean()"
   ]
  },
  {
   "cell_type": "code",
   "execution_count": 11,
   "metadata": {},
   "outputs": [
    {
     "data": {
      "text/plain": [
       "42.5"
      ]
     },
     "execution_count": 11,
     "metadata": {},
     "output_type": "execute_result"
    }
   ],
   "source": [
    "df['Insulin'].median()"
   ]
  },
  {
   "cell_type": "code",
   "execution_count": 12,
   "metadata": {},
   "outputs": [
    {
     "data": {
      "text/plain": [
       "33.11989459815547"
      ]
     },
     "execution_count": 12,
     "metadata": {},
     "output_type": "execute_result"
    }
   ],
   "source": [
    "df['Age'].mean()"
   ]
  },
  {
   "cell_type": "code",
   "execution_count": 13,
   "metadata": {},
   "outputs": [
    {
     "data": {
      "text/plain": [
       "29.0"
      ]
     },
     "execution_count": 13,
     "metadata": {},
     "output_type": "execute_result"
    }
   ],
   "source": [
    "df['Age'].median()"
   ]
  },
  {
   "cell_type": "code",
   "execution_count": 14,
   "metadata": {},
   "outputs": [
    {
     "data": {
      "text/plain": [
       "BMI\n",
       "32.0    13\n",
       "31.6    12\n",
       "31.2    12\n",
       "0.0     11\n",
       "32.4    10\n",
       "        ..\n",
       "36.7     1\n",
       "41.8     1\n",
       "42.6     1\n",
       "42.8     1\n",
       "46.3     1\n",
       "Name: count, Length: 248, dtype: int64"
      ]
     },
     "execution_count": 14,
     "metadata": {},
     "output_type": "execute_result"
    }
   ],
   "source": [
    "df['BMI'].value_counts()"
   ]
  },
  {
   "cell_type": "code",
   "execution_count": 15,
   "metadata": {},
   "outputs": [
    {
     "data": {
      "text/plain": [
       "Glucose\n",
       "99.0     17\n",
       "100.0    17\n",
       "129.0    14\n",
       "111.0    14\n",
       "106.0    14\n",
       "         ..\n",
       "191.0     1\n",
       "177.0     1\n",
       "44.0      1\n",
       "62.0      1\n",
       "190.0     1\n",
       "Name: count, Length: 136, dtype: int64"
      ]
     },
     "execution_count": 15,
     "metadata": {},
     "output_type": "execute_result"
    }
   ],
   "source": [
    "df['Glucose'].value_counts()"
   ]
  },
  {
   "cell_type": "code",
   "execution_count": 16,
   "metadata": {},
   "outputs": [
    {
     "data": {
      "text/plain": [
       "BloodPressure\n",
       "70     57\n",
       "74     52\n",
       "78     45\n",
       "68     45\n",
       "72     44\n",
       "64     43\n",
       "80     40\n",
       "76     39\n",
       "60     37\n",
       "0      35\n",
       "62     34\n",
       "66     30\n",
       "82     30\n",
       "88     25\n",
       "84     23\n",
       "90     22\n",
       "86     21\n",
       "58     21\n",
       "50     13\n",
       "56     12\n",
       "52     11\n",
       "54     11\n",
       "75      8\n",
       "92      8\n",
       "65      7\n",
       "85      6\n",
       "94      6\n",
       "48      5\n",
       "96      4\n",
       "44      4\n",
       "100     3\n",
       "106     3\n",
       "98      3\n",
       "110     3\n",
       "55      2\n",
       "108     2\n",
       "104     2\n",
       "46      2\n",
       "30      2\n",
       "122     1\n",
       "95      1\n",
       "102     1\n",
       "61      1\n",
       "24      1\n",
       "38      1\n",
       "40      1\n",
       "114     1\n",
       "Name: count, dtype: int64"
      ]
     },
     "execution_count": 16,
     "metadata": {},
     "output_type": "execute_result"
    }
   ],
   "source": [
    "df['BloodPressure'].value_counts()"
   ]
  },
  {
   "cell_type": "code",
   "execution_count": 17,
   "metadata": {},
   "outputs": [
    {
     "data": {
      "text/plain": [
       "SkinThickness\n",
       "0     227\n",
       "32     31\n",
       "30     27\n",
       "27     23\n",
       "23     22\n",
       "33     20\n",
       "28     20\n",
       "18     20\n",
       "31     19\n",
       "19     18\n",
       "39     18\n",
       "29     17\n",
       "40     16\n",
       "25     16\n",
       "26     16\n",
       "22     16\n",
       "37     16\n",
       "41     15\n",
       "35     15\n",
       "36     14\n",
       "15     14\n",
       "17     14\n",
       "20     13\n",
       "24     12\n",
       "42     11\n",
       "13     11\n",
       "21     10\n",
       "46      8\n",
       "34      8\n",
       "12      7\n",
       "38      7\n",
       "11      6\n",
       "43      6\n",
       "16      6\n",
       "45      6\n",
       "14      6\n",
       "44      5\n",
       "10      5\n",
       "48      4\n",
       "47      4\n",
       "49      3\n",
       "50      3\n",
       "8       2\n",
       "7       2\n",
       "52      2\n",
       "54      2\n",
       "63      1\n",
       "60      1\n",
       "56      1\n",
       "51      1\n",
       "99      1\n",
       "Name: count, dtype: int64"
      ]
     },
     "execution_count": 17,
     "metadata": {},
     "output_type": "execute_result"
    }
   ],
   "source": [
    "df['SkinThickness'].value_counts()"
   ]
  },
  {
   "cell_type": "code",
   "execution_count": 18,
   "metadata": {},
   "outputs": [],
   "source": [
    "df['Glucose'].replace(0, np.NaN, inplace=True)\n",
    "df['SkinThickness'].replace(0, np.NaN, inplace=True)\n",
    "df['BloodPressure'].replace(0, np.NaN, inplace=True)\n",
    "df['BMI'].replace(0, np.NaN, inplace=True)"
   ]
  },
  {
   "cell_type": "code",
   "execution_count": 19,
   "metadata": {},
   "outputs": [
    {
     "data": {
      "text/html": [
       "<div>\n",
       "<style scoped>\n",
       "    .dataframe tbody tr th:only-of-type {\n",
       "        vertical-align: middle;\n",
       "    }\n",
       "\n",
       "    .dataframe tbody tr th {\n",
       "        vertical-align: top;\n",
       "    }\n",
       "\n",
       "    .dataframe thead th {\n",
       "        text-align: right;\n",
       "    }\n",
       "</style>\n",
       "<table border=\"1\" class=\"dataframe\">\n",
       "  <thead>\n",
       "    <tr style=\"text-align: right;\">\n",
       "      <th></th>\n",
       "      <th>Unnamed: 0</th>\n",
       "      <th>Pregnancies</th>\n",
       "      <th>Glucose</th>\n",
       "      <th>BloodPressure</th>\n",
       "      <th>SkinThickness</th>\n",
       "      <th>Insulin</th>\n",
       "      <th>BMI</th>\n",
       "      <th>DiabetesPedigreeFunction</th>\n",
       "      <th>Age</th>\n",
       "      <th>Outcome</th>\n",
       "    </tr>\n",
       "  </thead>\n",
       "  <tbody>\n",
       "    <tr>\n",
       "      <th>0</th>\n",
       "      <td>0</td>\n",
       "      <td>6</td>\n",
       "      <td>148.0</td>\n",
       "      <td>72.00</td>\n",
       "      <td>35.00</td>\n",
       "      <td>42.5</td>\n",
       "      <td>33.60</td>\n",
       "      <td>0.627</td>\n",
       "      <td>50</td>\n",
       "      <td>1</td>\n",
       "    </tr>\n",
       "    <tr>\n",
       "      <th>1</th>\n",
       "      <td>1</td>\n",
       "      <td>1</td>\n",
       "      <td>85.0</td>\n",
       "      <td>66.00</td>\n",
       "      <td>29.00</td>\n",
       "      <td>42.5</td>\n",
       "      <td>26.60</td>\n",
       "      <td>0.351</td>\n",
       "      <td>29</td>\n",
       "      <td>0</td>\n",
       "    </tr>\n",
       "    <tr>\n",
       "      <th>2</th>\n",
       "      <td>2</td>\n",
       "      <td>8</td>\n",
       "      <td>183.0</td>\n",
       "      <td>64.00</td>\n",
       "      <td>29.15</td>\n",
       "      <td>42.5</td>\n",
       "      <td>23.30</td>\n",
       "      <td>0.672</td>\n",
       "      <td>32</td>\n",
       "      <td>1</td>\n",
       "    </tr>\n",
       "    <tr>\n",
       "      <th>3</th>\n",
       "      <td>3</td>\n",
       "      <td>1</td>\n",
       "      <td>89.0</td>\n",
       "      <td>66.00</td>\n",
       "      <td>23.00</td>\n",
       "      <td>94.0</td>\n",
       "      <td>28.10</td>\n",
       "      <td>0.167</td>\n",
       "      <td>21</td>\n",
       "      <td>0</td>\n",
       "    </tr>\n",
       "    <tr>\n",
       "      <th>4</th>\n",
       "      <td>4</td>\n",
       "      <td>0</td>\n",
       "      <td>137.0</td>\n",
       "      <td>40.00</td>\n",
       "      <td>35.00</td>\n",
       "      <td>168.0</td>\n",
       "      <td>43.10</td>\n",
       "      <td>2.288</td>\n",
       "      <td>33</td>\n",
       "      <td>1</td>\n",
       "    </tr>\n",
       "    <tr>\n",
       "      <th>5</th>\n",
       "      <td>5</td>\n",
       "      <td>5</td>\n",
       "      <td>116.0</td>\n",
       "      <td>74.00</td>\n",
       "      <td>29.15</td>\n",
       "      <td>42.5</td>\n",
       "      <td>25.60</td>\n",
       "      <td>0.201</td>\n",
       "      <td>30</td>\n",
       "      <td>0</td>\n",
       "    </tr>\n",
       "    <tr>\n",
       "      <th>6</th>\n",
       "      <td>6</td>\n",
       "      <td>3</td>\n",
       "      <td>78.0</td>\n",
       "      <td>50.00</td>\n",
       "      <td>32.00</td>\n",
       "      <td>88.0</td>\n",
       "      <td>31.00</td>\n",
       "      <td>0.248</td>\n",
       "      <td>26</td>\n",
       "      <td>1</td>\n",
       "    </tr>\n",
       "    <tr>\n",
       "      <th>7</th>\n",
       "      <td>7</td>\n",
       "      <td>10</td>\n",
       "      <td>115.0</td>\n",
       "      <td>72.41</td>\n",
       "      <td>29.15</td>\n",
       "      <td>42.5</td>\n",
       "      <td>35.30</td>\n",
       "      <td>0.134</td>\n",
       "      <td>29</td>\n",
       "      <td>0</td>\n",
       "    </tr>\n",
       "    <tr>\n",
       "      <th>8</th>\n",
       "      <td>8</td>\n",
       "      <td>2</td>\n",
       "      <td>197.0</td>\n",
       "      <td>70.00</td>\n",
       "      <td>45.00</td>\n",
       "      <td>543.0</td>\n",
       "      <td>30.50</td>\n",
       "      <td>0.158</td>\n",
       "      <td>53</td>\n",
       "      <td>1</td>\n",
       "    </tr>\n",
       "    <tr>\n",
       "      <th>9</th>\n",
       "      <td>9</td>\n",
       "      <td>8</td>\n",
       "      <td>125.0</td>\n",
       "      <td>96.00</td>\n",
       "      <td>29.15</td>\n",
       "      <td>42.5</td>\n",
       "      <td>32.46</td>\n",
       "      <td>0.232</td>\n",
       "      <td>29</td>\n",
       "      <td>1</td>\n",
       "    </tr>\n",
       "  </tbody>\n",
       "</table>\n",
       "</div>"
      ],
      "text/plain": [
       "   Unnamed: 0  Pregnancies  Glucose  BloodPressure  SkinThickness  Insulin  \\\n",
       "0           0            6    148.0          72.00          35.00     42.5   \n",
       "1           1            1     85.0          66.00          29.00     42.5   \n",
       "2           2            8    183.0          64.00          29.15     42.5   \n",
       "3           3            1     89.0          66.00          23.00     94.0   \n",
       "4           4            0    137.0          40.00          35.00    168.0   \n",
       "5           5            5    116.0          74.00          29.15     42.5   \n",
       "6           6            3     78.0          50.00          32.00     88.0   \n",
       "7           7           10    115.0          72.41          29.15     42.5   \n",
       "8           8            2    197.0          70.00          45.00    543.0   \n",
       "9           9            8    125.0          96.00          29.15     42.5   \n",
       "\n",
       "     BMI  DiabetesPedigreeFunction  Age  Outcome  \n",
       "0  33.60                     0.627   50        1  \n",
       "1  26.60                     0.351   29        0  \n",
       "2  23.30                     0.672   32        1  \n",
       "3  28.10                     0.167   21        0  \n",
       "4  43.10                     2.288   33        1  \n",
       "5  25.60                     0.201   30        0  \n",
       "6  31.00                     0.248   26        1  \n",
       "7  35.30                     0.134   29        0  \n",
       "8  30.50                     0.158   53        1  \n",
       "9  32.46                     0.232   29        1  "
      ]
     },
     "execution_count": 19,
     "metadata": {},
     "output_type": "execute_result"
    }
   ],
   "source": [
    "df_fillna = df\n",
    "\n",
    "df_fillna['Insulin'] = \\\n",
    "        df_fillna['Insulin'].fillna(df['Insulin'].median())\n",
    "\n",
    "df_fillna['Glucose'] = \\\n",
    "        df_fillna['Glucose'].fillna(df['Glucose'].mean()).round(2)\n",
    "\n",
    "df_fillna['Age'] = \\\n",
    "        df_fillna['Age'].fillna(df['Age'].median()).astype(int)\n",
    "\n",
    "df_fillna['BloodPressure'] = \\\n",
    "        df_fillna['BloodPressure'].fillna(df['BloodPressure'].mean()).round(2)\n",
    "\n",
    "df_fillna['SkinThickness'] = \\\n",
    "        df_fillna['SkinThickness'].fillna(df['SkinThickness'].mean()).round(2)\n",
    "\n",
    "df_fillna['BMI'] = \\\n",
    "        df_fillna['BMI'].fillna(df['BMI'].mean()).round(2)\n",
    "\n",
    "df_fillna.head(10)"
   ]
  },
  {
   "cell_type": "code",
   "execution_count": 25,
   "metadata": {},
   "outputs": [
    {
     "data": {
      "text/plain": [
       "Unnamed: 0                  0.004494\n",
       "Pregnancies                 0.191827\n",
       "Glucose                     0.222985\n",
       "BloodPressure               0.141111\n",
       "SkinThickness               0.421273\n",
       "Insulin                    -0.451387\n",
       "BMI                         0.124229\n",
       "DiabetesPedigreeFunction   -0.101865\n",
       "Age                         0.274025\n",
       "Outcome                     0.243345\n",
       "dtype: float64"
      ]
     },
     "execution_count": 25,
     "metadata": {},
     "output_type": "execute_result"
    }
   ],
   "source": [
    "corr_diff = df_fillna.corr(numeric_only=True) - df_dropna.corr(numeric_only=True)\n",
    "corr_diff.sum()"
   ]
  },
  {
   "cell_type": "code",
   "execution_count": 24,
   "metadata": {},
   "outputs": [
    {
     "data": {
      "text/plain": [
       "Unnamed: 0                  0.001364\n",
       "Pregnancies                -0.035244\n",
       "Glucose                     0.007387\n",
       "BloodPressure               0.013311\n",
       "SkinThickness               0.000451\n",
       "Insulin                     0.008210\n",
       "BMI                        -0.020190\n",
       "DiabetesPedigreeFunction    0.013634\n",
       "Age                        -0.019346\n",
       "Outcome                    -0.030263\n",
       "dtype: float64"
      ]
     },
     "execution_count": 24,
     "metadata": {},
     "output_type": "execute_result"
    }
   ],
   "source": [
    "corr_diff_global_and_dropped.sum()"
   ]
  }
 ],
 "metadata": {
  "kernelspec": {
   "display_name": "Python 3",
   "language": "python",
   "name": "python3"
  },
  "language_info": {
   "codemirror_mode": {
    "name": "ipython",
    "version": 3
   },
   "file_extension": ".py",
   "mimetype": "text/x-python",
   "name": "python",
   "nbconvert_exporter": "python",
   "pygments_lexer": "ipython3",
   "version": "3.10.8"
  }
 },
 "nbformat": 4,
 "nbformat_minor": 2
}
